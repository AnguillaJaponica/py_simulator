{
  "nbformat": 4,
  "nbformat_minor": 0,
  "metadata": {
    "colab": {
      "name": "chapter1.ipynb",
      "provenance": [],
      "collapsed_sections": [],
      "authorship_tag": "ABX9TyOr9H/mC47+yRd5AHYm410I",
      "include_colab_link": true
    },
    "kernelspec": {
      "name": "python3",
      "display_name": "Python 3"
    },
    "language_info": {
      "name": "python"
    }
  },
  "cells": [
    {
      "cell_type": "markdown",
      "metadata": {
        "id": "view-in-github",
        "colab_type": "text"
      },
      "source": [
        "<a href=\"https://colab.research.google.com/github/AnguillaJaponica/py_simulator/blob/master/chapter1.ipynb\" target=\"_parent\"><img src=\"https://colab.research.google.com/assets/colab-badge.svg\" alt=\"Open In Colab\"/></a>"
      ]
    },
    {
      "cell_type": "code",
      "metadata": {
        "id": "1MDHuw6msH0X"
      },
      "source": [
        "# import library\n",
        "import numpy as np\n",
        "import scipy as sp\n",
        "import matplotlib.pyplot as plt"
      ],
      "execution_count": null,
      "outputs": []
    },
    {
      "cell_type": "code",
      "metadata": {
        "colab": {
          "base_uri": "https://localhost:8080/",
          "height": 242
        },
        "id": "YbEWH0LdtKBw",
        "outputId": "5cb38bf6-f9f7-446e-a1dd-50c9c58553e5"
      },
      "source": [
        "x = np.linspace(-3, 3, 30)\n",
        "y1 = x\n",
        "y2 = x ** 2\n",
        "y3 = x ** 3\n",
        "y4 = x ** 4\n",
        "\n",
        "fig = plt.subplots(figsize = (10, 3))\n",
        "# plt.plot(x, y1, c = 'k', label = 'y1')\n",
        "plt.plot(x, y2, c = 'k', label = 'y2')\n",
        "plt.plot(x, y3, c = 'r', label = 'y3')\n",
        "# plt.plot(x, y4, c = 'r', label = 'y4')\n",
        "\n",
        "plt.xlabel('x')\n",
        "plt.ylabel('y')"
      ],
      "execution_count": 6,
      "outputs": [
        {
          "output_type": "execute_result",
          "data": {
            "text/plain": [
              "Text(0, 0.5, 'y')"
            ]
          },
          "metadata": {
            "tags": []
          },
          "execution_count": 6
        },
        {
          "output_type": "display_data",
          "data": {
            "image/png": "[encoded data removed]",
            "text/plain": [
              "<Figure size 720x216 with 1 Axes>"
            ]
          },
          "metadata": {
            "tags": [],
            "needs_background": "light"
          }
        }
      ]
    }
  ]
}